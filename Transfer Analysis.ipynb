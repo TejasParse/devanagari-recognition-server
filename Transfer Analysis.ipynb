{
 "cells": [
  {
   "cell_type": "code",
   "execution_count": 1,
   "id": "d175c450",
   "metadata": {},
   "outputs": [
    {
     "name": "stdout",
     "output_type": "stream",
     "text": [
      "cuda:0\n"
     ]
    }
   ],
   "source": [
    "import torch\n",
    "import torchvision.transforms as transforms\n",
    "from torchvision.datasets import ImageFolder\n",
    "import matplotlib.pyplot as plt\n",
    "import torch.nn as nn\n",
    "import torch.optim as optim\n",
    "from torchvision import datasets, transforms\n",
    "\n",
    "device = torch.device(\"cuda:0\" if torch.cuda.is_available() else \"cpu\")\n",
    "print(device)\n",
    "\n",
    "# Define the data directory\n",
    "test_dir = '../dataset/DevanagariHandwrittenCharacterDataset/test'\n",
    "train_dir = '../dataset/DevanagariHandwrittenCharacterDataset/train'\n",
    "\n",
    "# Define the transformation to be applied to each image\n",
    "transform = transforms.Compose([\n",
    "    transforms.Resize((28, 28)),\n",
    "    transforms.Grayscale(num_output_channels=1),\n",
    "    transforms.ToTensor(),\n",
    "    transforms.Normalize((0.1307,), (0.3081,))\n",
    "])\n",
    "\n",
    "# Load the dataset\n",
    "testset = ImageFolder(test_dir, transform=transform)\n",
    "trainset = ImageFolder(train_dir, transform=transform)\n",
    "\n",
    "# Create a dataloader\n",
    "batch_size = 64\n",
    "testloader = torch.utils.data.DataLoader(testset, batch_size=batch_size, shuffle=True)\n",
    "trainloader = torch.utils.data.DataLoader(trainset, batch_size=batch_size, shuffle=True)"
   ]
  },
  {
   "cell_type": "code",
   "execution_count": 2,
   "id": "e7aa3b7e",
   "metadata": {},
   "outputs": [
    {
     "name": "stdout",
     "output_type": "stream",
     "text": [
      "torch.Size([1, 28, 28])\n",
      "torch.Size([28, 28, 1])\n",
      "tensor(8)\n"
     ]
    },
    {
     "data": {
      "image/png": "[encoded data removed]",
      "text/plain": [
       "<Figure size 640x480 with 1 Axes>"
      ]
     },
     "metadata": {},
     "output_type": "display_data"
    }
   ],
   "source": [
    "# Get iterator object\n",
    "data_iter = iter(testloader)\n",
    "\n",
    "# Get a batch of data\n",
    "images, labels = next(data_iter)\n",
    "\n",
    "# Get a single image\n",
    "single_image = images[0]\n",
    "\n",
    "print(single_image.shape)\n",
    "\n",
    "newimg = torch.permute(single_image, (1,2,0))\n",
    "\n",
    "print(newimg.shape)\n",
    "\n",
    "plt.imshow(newimg, cmap=\"gray\")\n",
    "print(labels[0])"
   ]
  },
  {
   "cell_type": "code",
   "execution_count": 3,
   "id": "71c8f95d",
   "metadata": {},
   "outputs": [],
   "source": [
    "# Define the CNN model\n",
    "class Net(nn.Module):\n",
    "    def __init__(self):\n",
    "        super(Net, self).__init__()\n",
    "        self.conv1 = nn.Conv2d(1, 32, 3, 1)\n",
    "        self.conv2 = nn.Conv2d(32, 64, 3, 1)\n",
    "        self.dropout1 = nn.Dropout2d(0.25)\n",
    "        self.dropout2 = nn.Dropout2d(0.5)\n",
    "        self.fc1 = nn.Linear(9216, 128)\n",
    "        self.fc2 = nn.Linear(128, 10)\n",
    "\n",
    "    def forward(self, x):\n",
    "        x = self.conv1(x)\n",
    "        x = nn.functional.relu(x)\n",
    "        x = self.conv2(x)\n",
    "        x = nn.functional.relu(x)\n",
    "        x = nn.functional.max_pool2d(x, 2)\n",
    "        x = self.dropout1(x)\n",
    "        x = torch.flatten(x, 1)\n",
    "        x = self.fc1(x)\n",
    "        x = nn.functional.relu(x)\n",
    "        x = self.dropout2(x)\n",
    "        x = self.fc2(x)\n",
    "        output = nn.functional.log_softmax(x, dim=1)\n",
    "        return output"
   ]
  },
  {
   "cell_type": "code",
   "execution_count": 40,
   "id": "0e5b5ee6",
   "metadata": {},
   "outputs": [
    {
     "name": "stdout",
     "output_type": "stream",
     "text": [
      "conv1.weight\n",
      "conv1.bias\n",
      "conv2.weight\n",
      "conv2.bias\n",
      "fc1.weight\n",
      "fc1.bias\n",
      "fc2.weight\n",
      "fc2.bias\n"
     ]
    },
    {
     "data": {
      "text/plain": [
       "=================================================================\n",
       "Layer (type:depth-idx)                   Param #\n",
       "=================================================================\n",
       "Net                                      --\n",
       "├─Conv2d: 1-1                            (320)\n",
       "├─Conv2d: 1-2                            18,496\n",
       "├─Dropout2d: 1-3                         --\n",
       "├─Dropout2d: 1-4                         --\n",
       "├─Linear: 1-5                            1,179,776\n",
       "├─Linear: 1-6                            1,290\n",
       "=================================================================\n",
       "Total params: 1,199,882\n",
       "Trainable params: 1,199,562\n",
       "Non-trainable params: 320\n",
       "================================================================="
      ]
     },
     "execution_count": 40,
     "metadata": {},
     "output_type": "execute_result"
    }
   ],
   "source": [
    "# Instantiate the model\n",
    "model = Net()\n",
    "model.to(device)\n",
    "model.load_state_dict(torch.load('mnist_model_99_30.pt'))\n",
    "\n",
    "# Define the loss function and optimizer\n",
    "criterion = nn.CrossEntropyLoss()\n",
    "optimizer = optim.SGD(model.parameters(), lr=0.048, momentum=0.5)\n",
    "\n",
    "for name, weight in model.named_parameters():\n",
    "    print(name)\n",
    "    if((\"fc\" in name) or (\"conv2\" in name)):\n",
    "        weight.requires_grad = True\n",
    "    else:\n",
    "        weight.requires_grad = False\n",
    "\n",
    "from torchinfo import summary\n",
    "\n",
    "summary(model)\n",
    "\n",
    "# print(model)"
   ]
  },
  {
   "cell_type": "code",
   "execution_count": 41,
   "id": "71c79a18",
   "metadata": {},
   "outputs": [
    {
     "name": "stdout",
     "output_type": "stream",
     "text": [
      "Test Loss: 9.7117, Test Accuracy: 25.17%\n"
     ]
    }
   ],
   "source": [
    "# Evaluate the model on the test data\n",
    "test_loss = 0.0\n",
    "test_correct = 0\n",
    "model.eval()\n",
    "with torch.no_grad():\n",
    "    for data, target in testloader:\n",
    "        data, target = data.to(device), target.to(device)\n",
    "        output = model(data)\n",
    "        output = output.to(device)\n",
    "        loss = criterion(output, target)\n",
    "        test_loss += loss.item() * data.size(0)\n",
    "        _, predicted = torch.max(output.data, 1)\n",
    "        test_correct += (predicted == target).sum().item()\n",
    "test_loss /= len(testloader.dataset)\n",
    "test_accuracy = 100.0 * test_correct / len(testloader.dataset)\n",
    "print('Test Loss: {:.4f}, Test Accuracy: {:.2f}%'.format(test_loss, test_accuracy))"
   ]
  },
  {
   "cell_type": "code",
   "execution_count": null,
   "id": "49723c6c",
   "metadata": {},
   "outputs": [],
   "source": []
  },
  {
   "cell_type": "code",
   "execution_count": null,
   "id": "01de2b95",
   "metadata": {},
   "outputs": [],
   "source": []
  },
  {
   "cell_type": "code",
   "execution_count": 42,
   "id": "c5f130ef",
   "metadata": {
    "scrolled": true
   },
   "outputs": [
    {
     "name": "stdout",
     "output_type": "stream",
     "text": [
      "Epoch: 1, Training Loss: 0.5940, Training Accuracy: 83.10%\n",
      "Epoch: 2, Training Loss: 0.1702, Training Accuracy: 94.92%\n",
      "Epoch: 3, Training Loss: 0.1098, Training Accuracy: 96.53%\n",
      "Epoch: 4, Training Loss: 0.0835, Training Accuracy: 97.44%\n",
      "Epoch: 5, Training Loss: 0.0686, Training Accuracy: 98.04%\n",
      "Epoch: 6, Training Loss: 0.0557, Training Accuracy: 98.14%\n",
      "Epoch: 7, Training Loss: 0.0461, Training Accuracy: 98.55%\n",
      "Epoch: 8, Training Loss: 0.0435, Training Accuracy: 98.59%\n",
      "Epoch: 9, Training Loss: 0.0365, Training Accuracy: 98.84%\n",
      "Epoch: 10, Training Loss: 0.0333, Training Accuracy: 99.01%\n",
      "Epoch: 11, Training Loss: 0.0266, Training Accuracy: 99.17%\n",
      "Epoch: 12, Training Loss: 0.0276, Training Accuracy: 99.16%\n",
      "Epoch: 13, Training Loss: 0.0259, Training Accuracy: 99.13%\n",
      "Epoch: 14, Training Loss: 0.0247, Training Accuracy: 99.29%\n",
      "Epoch: 15, Training Loss: 0.0214, Training Accuracy: 99.35%\n",
      "Epoch: 16, Training Loss: 0.0236, Training Accuracy: 99.29%\n",
      "Epoch: 17, Training Loss: 0.0196, Training Accuracy: 99.42%\n",
      "Epoch: 18, Training Loss: 0.0176, Training Accuracy: 99.46%\n",
      "Epoch: 19, Training Loss: 0.0169, Training Accuracy: 99.44%\n",
      "Epoch: 20, Training Loss: 0.0156, Training Accuracy: 99.54%\n",
      "Epoch: 21, Training Loss: 0.0166, Training Accuracy: 99.46%\n",
      "Epoch: 22, Training Loss: 0.0143, Training Accuracy: 99.52%\n",
      "Epoch: 23, Training Loss: 0.0149, Training Accuracy: 99.52%\n",
      "Epoch: 24, Training Loss: 0.0131, Training Accuracy: 99.52%\n",
      "Epoch: 25, Training Loss: 0.0132, Training Accuracy: 99.60%\n",
      "Epoch: 26, Training Loss: 0.0123, Training Accuracy: 99.60%\n",
      "Epoch: 27, Training Loss: 0.0122, Training Accuracy: 99.58%\n",
      "Epoch: 28, Training Loss: 0.0099, Training Accuracy: 99.68%\n",
      "Epoch: 29, Training Loss: 0.0095, Training Accuracy: 99.69%\n",
      "Epoch: 30, Training Loss: 0.0113, Training Accuracy: 99.61%\n",
      "Best Training Accuracy: 99.69411764705882 at Epoch: 29\n"
     ]
    }
   ],
   "source": [
    "# Train the model\n",
    "epochs = 30\n",
    "Best_Train = -1\n",
    "Best_Epoch = -1\n",
    "for epoch in range(epochs):\n",
    "    train_loss = 0.0\n",
    "    train_correct = 0\n",
    "    model.train()\n",
    "    for data, target in trainloader:\n",
    "        data, target = data.to(device), target.to(device)\n",
    "        \n",
    "        optimizer.zero_grad()\n",
    "        output = model(data)\n",
    "        loss = criterion(output, target)\n",
    "        loss.backward()\n",
    "        optimizer.step()\n",
    "        train_loss += loss.item() * data.size(0)\n",
    "        _, predicted = torch.max(output.data, 1)\n",
    "        train_correct += (predicted == target).sum().item()\n",
    "    train_loss /= len(trainloader.dataset)\n",
    "    train_accuracy = 100.0 * train_correct / len(trainloader.dataset)\n",
    "    if(train_accuracy>Best_Train):\n",
    "        Best_Train = train_accuracy\n",
    "        Best_Epoch = epoch+1\n",
    "    print('Epoch: {}, Training Loss: {:.4f}, Training Accuracy: {:.2f}%'.format(\n",
    "        epoch+1, train_loss, train_accuracy))\n",
    "\n",
    "print(f\"Best Training Accuracy: {Best_Train} at Epoch: {Best_Epoch}\")"
   ]
  },
  {
   "cell_type": "code",
   "execution_count": 43,
   "id": "138dab0d",
   "metadata": {},
   "outputs": [
    {
     "name": "stdout",
     "output_type": "stream",
     "text": [
      "Test Loss: 0.0211, Test Accuracy: 99.57%\n"
     ]
    }
   ],
   "source": [
    "# Evaluate the model on the test data\n",
    "test_loss = 0.0\n",
    "test_correct = 0\n",
    "model.eval()\n",
    "with torch.no_grad():\n",
    "    for data, target in testloader:\n",
    "        data, target = data.to(device), target.to(device)\n",
    "        output = model(data)\n",
    "        output = output.to(device)\n",
    "        loss = criterion(output, target)\n",
    "        test_loss += loss.item() * data.size(0)\n",
    "        _, predicted = torch.max(output.data, 1)\n",
    "        test_correct += (predicted == target).sum().item()\n",
    "test_loss /= len(testloader.dataset)\n",
    "test_accuracy = 100.0 * test_correct / len(testloader.dataset)\n",
    "print('Test Loss: {:.4f}, Test Accuracy: {:.2f}%'.format(test_loss, test_accuracy))"
   ]
  },
  {
   "cell_type": "markdown",
   "id": "ae05a0ed",
   "metadata": {},
   "source": []
  },
  {
   "cell_type": "code",
   "execution_count": 30,
   "id": "2c15356f",
   "metadata": {},
   "outputs": [],
   "source": [
    "torch.save(model.state_dict(), \"devanagiri_weights_99_67\")"
   ]
  },
  {
   "cell_type": "code",
   "execution_count": null,
   "id": "c9c37ce3",
   "metadata": {},
   "outputs": [],
   "source": []
  },
  {
   "cell_type": "code",
   "execution_count": null,
   "id": "7a9cf63c",
   "metadata": {},
   "outputs": [],
   "source": []
  }
 ],
 "metadata": {
  "kernelspec": {
   "display_name": "Python 3 (ipykernel)",
   "language": "python",
   "name": "python3"
  },
  "language_info": {
   "codemirror_mode": {
    "name": "ipython",
    "version": 3
   },
   "file_extension": ".py",
   "mimetype": "text/x-python",
   "name": "python",
   "nbconvert_exporter": "python",
   "pygments_lexer": "ipython3",
   "version": "3.9.16"
  }
 },
 "nbformat": 4,
 "nbformat_minor": 5
}
